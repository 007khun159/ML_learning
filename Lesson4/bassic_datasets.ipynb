{
  "nbformat": 4,
  "nbformat_minor": 0,
  "metadata": {
    "colab": {
      "provenance": [],
      "authorship_tag": "ABX9TyPq/zeZtgRfVTxBEKonn1Cy",
      "include_colab_link": true
    },
    "kernelspec": {
      "name": "python3",
      "display_name": "Python 3"
    },
    "language_info": {
      "name": "python"
    }
  },
  "cells": [
    {
      "cell_type": "markdown",
      "metadata": {
        "id": "view-in-github",
        "colab_type": "text"
      },
      "source": [
        "<a href=\"https://colab.research.google.com/github/007khun159/ML_learning/blob/main/Lesson4/bassic_datasets.ipynb\" target=\"_parent\"><img src=\"https://colab.research.google.com/assets/colab-badge.svg\" alt=\"Open In Colab\"/></a>"
      ]
    },
    {
      "cell_type": "code",
      "execution_count": 5,
      "metadata": {
        "colab": {
          "base_uri": "https://localhost:8080/"
        },
        "id": "sw-0dcqSd0aA",
        "outputId": "6ebf7889-1666-485f-a404-53762e116534"
      },
      "outputs": [
        {
          "output_type": "stream",
          "name": "stdout",
          "text": [
            "train\n",
            "test\n"
          ]
        }
      ],
      "source": [
        "#Bassic Dowload of   Models with Tensorflow data sets    = TFDS\n",
        "\n",
        "import tensorflow as tf\n",
        "import tensorflow_datasets as tfds\n",
        "\n",
        "\n",
        "mnist_data = tfds.load(\"fashion_mnist\")\n",
        "\n",
        "for item in mnist_data:\n",
        "    print(item)\n"
      ]
    },
    {
      "cell_type": "code",
      "source": [
        "#Get Train data sets only\n",
        "\n",
        "\n",
        "mnist_train  = tfds.load(name = 'fashion_mnist' , split = 'train')\n",
        "assert isinstance(mnist_train , tf.data.Dataset)\n",
        "print(type(mnist_train))"
      ],
      "metadata": {
        "colab": {
          "base_uri": "https://localhost:8080/"
        },
        "id": "QO36GAhEfWUd",
        "outputId": "d99c0c3b-5478-4855-907e-7f2c0f002a40"
      },
      "execution_count": 6,
      "outputs": [
        {
          "output_type": "stream",
          "name": "stdout",
          "text": [
            "<class 'tensorflow.python.data.ops.prefetch_op._PrefetchDataset'>\n"
          ]
        }
      ]
    },
    {
      "cell_type": "code",
      "source": [
        "#Show Column  Record 1\n",
        "\n",
        "for item in mnist_train.take(1):\n",
        "  print(type(item))\n",
        "  print(item.keys())"
      ],
      "metadata": {
        "colab": {
          "base_uri": "https://localhost:8080/"
        },
        "id": "9IyFMbqIf9b0",
        "outputId": "e4c457b5-c57b-4c3f-d652-bac21053c5c3"
      },
      "execution_count": 9,
      "outputs": [
        {
          "output_type": "stream",
          "name": "stdout",
          "text": [
            "<class 'dict'>\n",
            "dict_keys(['image', 'label'])\n"
          ]
        }
      ]
    },
    {
      "cell_type": "code",
      "source": [
        " #Show Array  In Data Sets\n",
        "for item in mnist_train.take(1):\n",
        "  print(type(item))\n",
        "  print(item.keys())\n",
        "  print(item['image'])\n",
        "  print(item['label'])"
      ],
      "metadata": {
        "id": "PoinGyocgdQi"
      },
      "execution_count": null,
      "outputs": []
    }
  ]
}