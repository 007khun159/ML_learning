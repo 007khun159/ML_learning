{
  "nbformat": 4,
  "nbformat_minor": 0,
  "metadata": {
    "colab": {
      "provenance": [],
      "authorship_tag": "ABX9TyPIRhT3xzUQYRLbvvvhrA87",
      "include_colab_link": true
    },
    "kernelspec": {
      "name": "python3",
      "display_name": "Python 3"
    },
    "language_info": {
      "name": "python"
    }
  },
  "cells": [
    {
      "cell_type": "markdown",
      "metadata": {
        "id": "view-in-github",
        "colab_type": "text"
      },
      "source": [
        "<a href=\"https://colab.research.google.com/github/007khun159/ML_learning/blob/main/Lesson2/Vision_Com.ipynb\" target=\"_parent\"><img src=\"https://colab.research.google.com/assets/colab-badge.svg\" alt=\"Open In Colab\"/></a>"
      ]
    },
    {
      "cell_type": "code",
      "execution_count": 5,
      "metadata": {
        "colab": {
          "base_uri": "https://localhost:8080/"
        },
        "id": "2C_2zX-uNFJ_",
        "outputId": "d0aec193-e282-4542-9c64-c7aa2be607ff"
      },
      "outputs": [
        {
          "output_type": "stream",
          "name": "stdout",
          "text": [
            "Epoch 1/5\n",
            "1875/1875 [==============================] - 8s 4ms/step - loss: 0.4946 - accuracy: 0.8232\n",
            "Epoch 2/5\n",
            "1875/1875 [==============================] - 7s 4ms/step - loss: 0.3709 - accuracy: 0.8660\n",
            "Epoch 3/5\n",
            "1875/1875 [==============================] - 8s 4ms/step - loss: 0.3371 - accuracy: 0.8767\n",
            "Epoch 4/5\n",
            "1875/1875 [==============================] - 9s 5ms/step - loss: 0.3125 - accuracy: 0.8867\n",
            "Epoch 5/5\n",
            "1875/1875 [==============================] - 6s 3ms/step - loss: 0.2942 - accuracy: 0.8922\n"
          ]
        },
        {
          "output_type": "execute_result",
          "data": {
            "text/plain": [
              "<keras.src.callbacks.History at 0x7e43927219f0>"
            ]
          },
          "metadata": {},
          "execution_count": 5
        }
      ],
      "source": [
        "#Fashion  MINIST\n",
        "\n",
        "import tensorflow as tf\n",
        "\n",
        "# Load the Fashion MNIST dataset\n",
        "data = tf.keras.datasets.fashion_mnist\n",
        "# ทำการดึงภาพจากทั้งหมด  70,000 มาทำการคำนวณ\n",
        "(training_images, training_labels), (test_images, test_labels) = data.load_data()\n",
        "\n",
        "# Normalize the pixel values to be in the range [0, 1]\n",
        "\n",
        "#แบ่งไป train 60,000 รุป\n",
        "training_images = training_images / 255.0\n",
        "#นำไปใช้วัดประเมินผล 10,000 รุป\n",
        "test_images = test_images / 255.0\n",
        "\n",
        "# Define your model with 3 layers\n",
        "model = tf.keras.models.Sequential([\n",
        "    tf.keras.layers.Flatten(input_shape=(28, 28)),\n",
        "    tf.keras.layers.Dense(128, activation=tf.nn.relu),\n",
        "    tf.keras.layers.Dense(10, activation=tf.nn.softmax),\n",
        "])\n",
        "\n",
        "# Compile the model with an optimizer, loss function, and metrics\n",
        "model.compile(optimizer='adam',\n",
        "              loss='sparse_categorical_crossentropy',\n",
        "              metrics=['accuracy'])\n",
        "\n",
        "\n",
        "model.fit(training_images , training_labels , epochs =5)\n",
        "\n",
        "\n",
        "# data = tf.keras.fashion_mnist()"
      ]
    },
    {
      "cell_type": "code",
      "source": [
        "data = tf.keras.datasets.fashion_mnist\n",
        "print(data)\n"
      ],
      "metadata": {
        "colab": {
          "base_uri": "https://localhost:8080/"
        },
        "id": "AonyYp_wQ4ZF",
        "outputId": "1a4bbb90-b054-40f7-cee9-4f6bdcc0f653"
      },
      "execution_count": 7,
      "outputs": [
        {
          "output_type": "stream",
          "name": "stdout",
          "text": [
            "<module 'keras.api._v2.keras.datasets.fashion_mnist' from '/usr/local/lib/python3.10/dist-packages/keras/api/_v2/keras/datasets/fashion_mnist/__init__.py'>\n"
          ]
        }
      ]
    },
    {
      "cell_type": "code",
      "source": [
        "#Prediction\n",
        "\n",
        "classifications = model.predict(test_images)\n",
        "print(classifications)\n",
        "print(test_labels[0])\n",
        "#ส่วนมากค่าของ prediction นั้นมักจะเป็น 0 -9 เพราะว่าoutput ของเรา\n",
        "#มีเพียงแค่ 10 อย่างเท่านั้้น\n",
        "\n"
      ],
      "metadata": {
        "colab": {
          "base_uri": "https://localhost:8080/"
        },
        "id": "5qpp6NIBUMvh",
        "outputId": "eab86d8a-63f1-4e12-e403-bf137472e07c"
      },
      "execution_count": 11,
      "outputs": [
        {
          "output_type": "stream",
          "name": "stdout",
          "text": [
            "313/313 [==============================] - 1s 4ms/step\n",
            "[[5.18389470e-06 1.52750932e-08 2.91004994e-07 ... 6.79421350e-02\n",
            "  5.66331546e-05 9.17182088e-01]\n",
            " [1.82428776e-05 1.16294552e-09 9.85283196e-01 ... 1.93986147e-11\n",
            "  3.32592521e-07 5.87976879e-13]\n",
            " [4.08168148e-07 9.99999344e-01 7.48520534e-09 ... 1.06829264e-16\n",
            "  1.61821025e-11 5.51532629e-14]\n",
            " ...\n",
            " [4.32104978e-04 2.39276821e-10 3.17620375e-04 ... 1.26003977e-06\n",
            "  9.96957123e-01 1.71260073e-09]\n",
            " [4.15056405e-07 9.99887049e-01 1.01075365e-07 ... 2.48705501e-09\n",
            "  9.22333143e-08 3.58495562e-08]\n",
            " [7.62101728e-04 1.32831929e-05 3.97616968e-04 ... 1.32588306e-02\n",
            "  7.68383453e-03 5.12713275e-04]]\n",
            "9\n"
          ]
        }
      ]
    },
    {
      "cell_type": "code",
      "source": [
        "#ถ้าหากตัวของเรานั้นต้องการค่าความแม่นยำเพียงแค่ 95%\n",
        "\n",
        "class myCallback(tf.keras.callbacks.Callback):\n",
        "  def on_epoch_end(self, epoch, logs={}):\n",
        "    if(logs.get('accuracy')>95):\n",
        "      print(\"\\nReached 95% accuracy so cancelling traning!!\")\n",
        "\n",
        "\n",
        "\n",
        "callbacks = myCallback()\n",
        "mnist = tf.keras.datasets.fashion_mnist\n",
        "\n",
        "\n",
        "\n",
        "data = tf.keras.datasets.fashion_mnist\n",
        "(training_images, training_labels), (test_images, test_labels) = data.load_data()\n",
        "\n",
        "training_images = training_images / 255.0\n",
        "test_images = test_images / 255.0\n",
        "\n",
        "\n",
        "model = tf.keras.models.Sequential([\n",
        "    tf.keras.layers.Flatten(input_shape=(28, 28)),\n",
        "    tf.keras.layers.Dense(128, activation=tf.nn.relu),\n",
        "    tf.keras.layers.Dense(10, activation=tf.nn.softmax),\n",
        "])\n",
        "\n",
        "model.compile(optimizer='adam',\n",
        "              loss='sparse_categorical_crossentropy',\n",
        "              metrics=['accuracy'])\n",
        "\n",
        "\n",
        "model.fit(training_images , training_labels , epochs =50,\n",
        "          callbacks = [callbacks])\n"
      ],
      "metadata": {
        "colab": {
          "base_uri": "https://localhost:8080/"
        },
        "id": "CLFQ1_dzUmu0",
        "outputId": "3bb0ed8b-eea2-483b-ac7f-2b19efa8ed4b"
      },
      "execution_count": 12,
      "outputs": [
        {
          "output_type": "stream",
          "name": "stdout",
          "text": [
            "Epoch 1/50\n",
            "1875/1875 [==============================] - 9s 4ms/step - loss: 0.5031 - accuracy: 0.8219\n",
            "Epoch 2/50\n",
            "1875/1875 [==============================] - 6s 3ms/step - loss: 0.3743 - accuracy: 0.8658\n",
            "Epoch 3/50\n",
            "1875/1875 [==============================] - 8s 4ms/step - loss: 0.3354 - accuracy: 0.8784\n",
            "Epoch 4/50\n",
            "1875/1875 [==============================] - 9s 5ms/step - loss: 0.3103 - accuracy: 0.8868\n",
            "Epoch 5/50\n",
            "1875/1875 [==============================] - 7s 4ms/step - loss: 0.2940 - accuracy: 0.8902\n",
            "Epoch 6/50\n",
            "1875/1875 [==============================] - 8s 4ms/step - loss: 0.2809 - accuracy: 0.8958\n",
            "Epoch 7/50\n",
            "1875/1875 [==============================] - 6s 3ms/step - loss: 0.2657 - accuracy: 0.9012\n",
            "Epoch 8/50\n",
            "1875/1875 [==============================] - 8s 4ms/step - loss: 0.2563 - accuracy: 0.9046\n",
            "Epoch 9/50\n",
            "1875/1875 [==============================] - 6s 3ms/step - loss: 0.2452 - accuracy: 0.9083\n",
            "Epoch 10/50\n",
            "1875/1875 [==============================] - 8s 4ms/step - loss: 0.2372 - accuracy: 0.9119\n",
            "Epoch 11/50\n",
            "1875/1875 [==============================] - 6s 3ms/step - loss: 0.2283 - accuracy: 0.9147\n",
            "Epoch 12/50\n",
            "1875/1875 [==============================] - 8s 4ms/step - loss: 0.2234 - accuracy: 0.9150\n",
            "Epoch 13/50\n",
            "1875/1875 [==============================] - 6s 3ms/step - loss: 0.2156 - accuracy: 0.9195\n",
            "Epoch 14/50\n",
            "1875/1875 [==============================] - 8s 4ms/step - loss: 0.2081 - accuracy: 0.9219\n",
            "Epoch 15/50\n",
            "1875/1875 [==============================] - 7s 3ms/step - loss: 0.2034 - accuracy: 0.9238\n",
            "Epoch 16/50\n",
            "1875/1875 [==============================] - 8s 4ms/step - loss: 0.1961 - accuracy: 0.9264\n",
            "Epoch 17/50\n",
            "1875/1875 [==============================] - 7s 4ms/step - loss: 0.1919 - accuracy: 0.9273\n",
            "Epoch 18/50\n",
            "1875/1875 [==============================] - 7s 4ms/step - loss: 0.1867 - accuracy: 0.9300\n",
            "Epoch 19/50\n",
            "1875/1875 [==============================] - 8s 4ms/step - loss: 0.1817 - accuracy: 0.9323\n",
            "Epoch 20/50\n",
            "1875/1875 [==============================] - 6s 3ms/step - loss: 0.1769 - accuracy: 0.9342\n",
            "Epoch 21/50\n",
            "1875/1875 [==============================] - 8s 4ms/step - loss: 0.1728 - accuracy: 0.9353\n",
            "Epoch 22/50\n",
            "1875/1875 [==============================] - 7s 3ms/step - loss: 0.1685 - accuracy: 0.9367\n",
            "Epoch 23/50\n",
            "1875/1875 [==============================] - 8s 4ms/step - loss: 0.1652 - accuracy: 0.9380\n",
            "Epoch 24/50\n",
            "1875/1875 [==============================] - 6s 3ms/step - loss: 0.1609 - accuracy: 0.9395\n",
            "Epoch 25/50\n",
            "1875/1875 [==============================] - 9s 5ms/step - loss: 0.1567 - accuracy: 0.9415\n",
            "Epoch 26/50\n",
            "1875/1875 [==============================] - 6s 3ms/step - loss: 0.1536 - accuracy: 0.9420\n",
            "Epoch 27/50\n",
            "1875/1875 [==============================] - 8s 4ms/step - loss: 0.1493 - accuracy: 0.9445\n",
            "Epoch 28/50\n",
            "1875/1875 [==============================] - 7s 4ms/step - loss: 0.1467 - accuracy: 0.9456\n",
            "Epoch 29/50\n",
            "1875/1875 [==============================] - 7s 4ms/step - loss: 0.1441 - accuracy: 0.9453\n",
            "Epoch 30/50\n",
            "1875/1875 [==============================] - 8s 4ms/step - loss: 0.1400 - accuracy: 0.9482\n",
            "Epoch 31/50\n",
            "1875/1875 [==============================] - 7s 4ms/step - loss: 0.1375 - accuracy: 0.9484\n",
            "Epoch 32/50\n",
            "1875/1875 [==============================] - 8s 4ms/step - loss: 0.1349 - accuracy: 0.9490\n",
            "Epoch 33/50\n",
            "1875/1875 [==============================] - 6s 3ms/step - loss: 0.1324 - accuracy: 0.9502\n",
            "Epoch 34/50\n",
            "1875/1875 [==============================] - 8s 4ms/step - loss: 0.1318 - accuracy: 0.9506\n",
            "Epoch 35/50\n",
            "1875/1875 [==============================] - 7s 4ms/step - loss: 0.1273 - accuracy: 0.9514\n",
            "Epoch 36/50\n",
            "1875/1875 [==============================] - 8s 4ms/step - loss: 0.1241 - accuracy: 0.9534\n",
            "Epoch 37/50\n",
            "1875/1875 [==============================] - 6s 3ms/step - loss: 0.1206 - accuracy: 0.9549\n",
            "Epoch 38/50\n",
            "1875/1875 [==============================] - 8s 4ms/step - loss: 0.1198 - accuracy: 0.9548\n",
            "Epoch 39/50\n",
            "1875/1875 [==============================] - 6s 3ms/step - loss: 0.1181 - accuracy: 0.9553\n",
            "Epoch 40/50\n",
            "1875/1875 [==============================] - 8s 4ms/step - loss: 0.1164 - accuracy: 0.9558\n",
            "Epoch 41/50\n",
            "1875/1875 [==============================] - 7s 4ms/step - loss: 0.1150 - accuracy: 0.9570\n",
            "Epoch 42/50\n",
            "1875/1875 [==============================] - 7s 4ms/step - loss: 0.1120 - accuracy: 0.9582\n",
            "Epoch 43/50\n",
            "1875/1875 [==============================] - 8s 4ms/step - loss: 0.1097 - accuracy: 0.9590\n",
            "Epoch 44/50\n",
            "1875/1875 [==============================] - 6s 3ms/step - loss: 0.1087 - accuracy: 0.9586\n",
            "Epoch 45/50\n",
            "1875/1875 [==============================] - 8s 4ms/step - loss: 0.1067 - accuracy: 0.9594\n",
            "Epoch 46/50\n",
            "1875/1875 [==============================] - 7s 4ms/step - loss: 0.1047 - accuracy: 0.9602\n",
            "Epoch 47/50\n",
            "1875/1875 [==============================] - 9s 5ms/step - loss: 0.1017 - accuracy: 0.9625\n",
            "Epoch 48/50\n",
            "1875/1875 [==============================] - 6s 3ms/step - loss: 0.1024 - accuracy: 0.9619\n",
            "Epoch 49/50\n",
            "1875/1875 [==============================] - 8s 4ms/step - loss: 0.0990 - accuracy: 0.9621\n",
            "Epoch 50/50\n",
            "1875/1875 [==============================] - 7s 4ms/step - loss: 0.0984 - accuracy: 0.9635\n"
          ]
        },
        {
          "output_type": "execute_result",
          "data": {
            "text/plain": [
              "<keras.src.callbacks.History at 0x7e43a41665c0>"
            ]
          },
          "metadata": {},
          "execution_count": 12
        }
      ]
    }
  ]
}