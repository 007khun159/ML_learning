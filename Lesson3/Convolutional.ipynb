{
  "nbformat": 4,
  "nbformat_minor": 0,
  "metadata": {
    "colab": {
      "provenance": [],
      "authorship_tag": "ABX9TyOCZltLXad8VEfuabScuc5f",
      "include_colab_link": true
    },
    "kernelspec": {
      "name": "python3",
      "display_name": "Python 3"
    },
    "language_info": {
      "name": "python"
    }
  },
  "cells": [
    {
      "cell_type": "markdown",
      "metadata": {
        "id": "view-in-github",
        "colab_type": "text"
      },
      "source": [
        "<a href=\"https://colab.research.google.com/github/007khun159/ML_learning/blob/main/Lesson3/Convolutional.ipynb\" target=\"_parent\"><img src=\"https://colab.research.google.com/assets/colab-badge.svg\" alt=\"Open In Colab\"/></a>"
      ]
    },
    {
      "cell_type": "code",
      "execution_count": null,
      "metadata": {
        "id": "f41x-dolQsDa"
      },
      "outputs": [],
      "source": [
        "# Code เดิมจากบทที่แล้ว\n",
        "import tensorflow as  tf\n",
        "data  = tf.keras.datasets.fashion_mnist\n",
        "\n",
        "(training_images , training_labels) , (test_images , test_labels) = data.load_data()\n",
        "\n",
        "training_images  =  training_images /255.0\n",
        "test_images = test_images/255.0\n",
        "\n",
        "model = tf.keras.models.Sequential([\n",
        "    tf.keras.layers.Flatten(input_shape=(28, 28)),\n",
        "    tf.keras.layers.Dense(128, activation=tf.nn.relu),\n",
        "    tf.keras.layers.Dense(10, activation=tf.nn.softmax),\n",
        "])\n",
        "\n",
        "model.compile(optimizer='adam',\n",
        "              loss='sparse_categorical_crossentropy',\n",
        "              metrics=['accuracy'])\n",
        "\n",
        "\n",
        "model.fit(training_images , training_labels , epochs =5)"
      ]
    },
    {
      "cell_type": "code",
      "source": [
        " # เราจะทำการปรับเปลี่ยนโดยใช้ ชั้น layer ที่มากขึ้น\n",
        "import tensorflow as  tf\n",
        "data  = tf.keras.datasets.fashion_mnist\n",
        "\n",
        "(training_images , training_labels) , (test_images , test_labels) = data.load_data()\n",
        "\n",
        "\n",
        "training_images = training_images.reshape(60000, 28,28 ,1)\n",
        "training_images  =  training_images /255.0\n",
        "test_images =test_images.reshape(10000, 28,28 ,1)\n",
        "test_images = test_images/255.0\n",
        "\n",
        "\n",
        "\n",
        "# Sorting  Covolution  model\n",
        "model = tf.keras.models.Sequential([\n",
        "    tf.keras.layers.Conv2D(64, (3, 3), activation='relu', input_shape=(28, 28, 1)),  # Corrected input_shape\n",
        "    tf.keras.layers.MaxPooling2D(2, 2),\n",
        "    tf.keras.layers.Conv2D(64, (3, 3), activation='relu'),\n",
        "    tf.keras.layers.MaxPooling2D(2, 2),\n",
        "    tf.keras.layers.Flatten(),\n",
        "    tf.keras.layers.Dense(128, activation=tf.nn.relu),\n",
        "    tf.keras.layers.Dense(10, activation=tf.nn.softmax)\n",
        "])\n",
        "\n",
        "\n",
        "model.compile(optimizer='adam',\n",
        "              loss='sparse_categorical_crossentropy',\n",
        "              metrics=['accuracy'])\n",
        "\n",
        "model.fit(training_images , training_labels , epochs =50)\n",
        "\n",
        "\n",
        "\n",
        "#ทำการแยก class\n",
        "\n",
        "\n",
        "model.evaluate(test_images , test_labels)\n",
        "\n",
        "classifications = model.predict(test_images)\n",
        "print(classifications[0])\n",
        "print(test_labels[0])"
      ],
      "metadata": {
        "colab": {
          "base_uri": "https://localhost:8080/"
        },
        "id": "PFy1nF1USjbX",
        "outputId": "ad25ba6e-f11a-4904-bf75-944e5e869465"
      },
      "execution_count": 6,
      "outputs": [
        {
          "output_type": "stream",
          "name": "stdout",
          "text": [
            "Epoch 1/50\n",
            "1875/1875 [==============================] - 91s 48ms/step - loss: 0.4411 - accuracy: 0.8399\n",
            "Epoch 2/50\n",
            "1875/1875 [==============================] - 89s 47ms/step - loss: 0.2934 - accuracy: 0.8921\n",
            "Epoch 3/50\n",
            "1875/1875 [==============================] - 89s 47ms/step - loss: 0.2485 - accuracy: 0.9075\n",
            "Epoch 4/50\n",
            "1875/1875 [==============================] - 88s 47ms/step - loss: 0.2152 - accuracy: 0.9194\n",
            "Epoch 5/50\n",
            "1875/1875 [==============================] - 86s 46ms/step - loss: 0.1876 - accuracy: 0.9308\n",
            "Epoch 6/50\n",
            "1875/1875 [==============================] - 88s 47ms/step - loss: 0.1649 - accuracy: 0.9374\n",
            "Epoch 7/50\n",
            "1875/1875 [==============================] - 91s 49ms/step - loss: 0.1455 - accuracy: 0.9456\n",
            "Epoch 8/50\n",
            "1875/1875 [==============================] - 90s 48ms/step - loss: 0.1277 - accuracy: 0.9521\n",
            "Epoch 9/50\n",
            "1875/1875 [==============================] - 87s 46ms/step - loss: 0.1129 - accuracy: 0.9574\n",
            "Epoch 10/50\n",
            "1875/1875 [==============================] - 87s 47ms/step - loss: 0.0985 - accuracy: 0.9635\n",
            "Epoch 11/50\n",
            "1875/1875 [==============================] - 86s 46ms/step - loss: 0.0882 - accuracy: 0.9669\n",
            "Epoch 12/50\n",
            "1875/1875 [==============================] - 87s 46ms/step - loss: 0.0770 - accuracy: 0.9707\n",
            "Epoch 13/50\n",
            "1875/1875 [==============================] - 87s 46ms/step - loss: 0.0688 - accuracy: 0.9742\n",
            "Epoch 14/50\n",
            "1875/1875 [==============================] - 89s 47ms/step - loss: 0.0611 - accuracy: 0.9769\n",
            "Epoch 15/50\n",
            "1875/1875 [==============================] - 87s 46ms/step - loss: 0.0538 - accuracy: 0.9801\n",
            "Epoch 16/50\n",
            "1875/1875 [==============================] - 86s 46ms/step - loss: 0.0495 - accuracy: 0.9817\n",
            "Epoch 17/50\n",
            "1875/1875 [==============================] - 87s 46ms/step - loss: 0.0459 - accuracy: 0.9828\n",
            "Epoch 18/50\n",
            "1875/1875 [==============================] - 88s 47ms/step - loss: 0.0421 - accuracy: 0.9847\n",
            "Epoch 19/50\n",
            "1875/1875 [==============================] - 86s 46ms/step - loss: 0.0408 - accuracy: 0.9850\n",
            "Epoch 20/50\n",
            "1875/1875 [==============================] - 87s 47ms/step - loss: 0.0343 - accuracy: 0.9873\n",
            "Epoch 21/50\n",
            "1875/1875 [==============================] - 85s 46ms/step - loss: 0.0351 - accuracy: 0.9873\n",
            "Epoch 22/50\n",
            "1875/1875 [==============================] - 87s 46ms/step - loss: 0.0342 - accuracy: 0.9875\n",
            "Epoch 23/50\n",
            "1875/1875 [==============================] - 87s 46ms/step - loss: 0.0303 - accuracy: 0.9891\n",
            "Epoch 24/50\n",
            "1875/1875 [==============================] - 85s 46ms/step - loss: 0.0281 - accuracy: 0.9897\n",
            "Epoch 25/50\n",
            "1875/1875 [==============================] - 87s 46ms/step - loss: 0.0281 - accuracy: 0.9897\n",
            "Epoch 26/50\n",
            "1875/1875 [==============================] - 86s 46ms/step - loss: 0.0257 - accuracy: 0.9910\n",
            "Epoch 27/50\n",
            "1875/1875 [==============================] - 87s 47ms/step - loss: 0.0255 - accuracy: 0.9909\n",
            "Epoch 28/50\n",
            "1875/1875 [==============================] - 88s 47ms/step - loss: 0.0281 - accuracy: 0.9904\n",
            "Epoch 29/50\n",
            "1875/1875 [==============================] - 87s 46ms/step - loss: 0.0251 - accuracy: 0.9908\n",
            "Epoch 30/50\n",
            "1875/1875 [==============================] - 88s 47ms/step - loss: 0.0215 - accuracy: 0.9925\n",
            "Epoch 31/50\n",
            "1875/1875 [==============================] - 86s 46ms/step - loss: 0.0234 - accuracy: 0.9918\n",
            "Epoch 32/50\n",
            "1875/1875 [==============================] - 87s 46ms/step - loss: 0.0226 - accuracy: 0.9920\n",
            "Epoch 33/50\n",
            "1875/1875 [==============================] - 86s 46ms/step - loss: 0.0217 - accuracy: 0.9926\n",
            "Epoch 34/50\n",
            "1875/1875 [==============================] - 87s 46ms/step - loss: 0.0242 - accuracy: 0.9919\n",
            "Epoch 35/50\n",
            "1875/1875 [==============================] - 88s 47ms/step - loss: 0.0199 - accuracy: 0.9937\n",
            "Epoch 36/50\n",
            "1875/1875 [==============================] - 86s 46ms/step - loss: 0.0217 - accuracy: 0.9931\n",
            "Epoch 37/50\n",
            "1875/1875 [==============================] - 88s 47ms/step - loss: 0.0212 - accuracy: 0.9925\n",
            "Epoch 38/50\n",
            "1875/1875 [==============================] - 86s 46ms/step - loss: 0.0200 - accuracy: 0.9933\n",
            "Epoch 39/50\n",
            "1875/1875 [==============================] - 87s 46ms/step - loss: 0.0189 - accuracy: 0.9938\n",
            "Epoch 40/50\n",
            "1875/1875 [==============================] - 87s 46ms/step - loss: 0.0195 - accuracy: 0.9936\n",
            "Epoch 41/50\n",
            "1875/1875 [==============================] - 86s 46ms/step - loss: 0.0198 - accuracy: 0.9936\n",
            "Epoch 42/50\n",
            "1875/1875 [==============================] - 87s 46ms/step - loss: 0.0193 - accuracy: 0.9937\n",
            "Epoch 43/50\n",
            "1875/1875 [==============================] - 86s 46ms/step - loss: 0.0178 - accuracy: 0.9942\n",
            "Epoch 44/50\n",
            "1875/1875 [==============================] - 87s 46ms/step - loss: 0.0195 - accuracy: 0.9939\n",
            "Epoch 45/50\n",
            "1875/1875 [==============================] - 88s 47ms/step - loss: 0.0214 - accuracy: 0.9930\n",
            "Epoch 46/50\n",
            "1875/1875 [==============================] - 87s 46ms/step - loss: 0.0183 - accuracy: 0.9941\n",
            "Epoch 47/50\n",
            "1875/1875 [==============================] - 88s 47ms/step - loss: 0.0150 - accuracy: 0.9951\n",
            "Epoch 48/50\n",
            "1875/1875 [==============================] - 89s 47ms/step - loss: 0.0185 - accuracy: 0.9939\n",
            "Epoch 49/50\n",
            "1875/1875 [==============================] - 88s 47ms/step - loss: 0.0188 - accuracy: 0.9942\n",
            "Epoch 50/50\n",
            "1875/1875 [==============================] - 89s 48ms/step - loss: 0.0178 - accuracy: 0.9942\n",
            "313/313 [==============================] - 4s 13ms/step - loss: 0.9127 - accuracy: 0.9099\n",
            "313/313 [==============================] - 4s 12ms/step\n",
            "[2.4232852e-30 4.1320032e-37 5.7840063e-37 2.2698928e-30 0.0000000e+00\n",
            " 1.1838676e-19 1.1347624e-29 6.6024376e-24 1.9673385e-37 9.9999994e-01]\n",
            "9\n"
          ]
        }
      ]
    },
    {
      "cell_type": "code",
      "source": [
        "print(\"Hello World\")"
      ],
      "metadata": {
        "colab": {
          "base_uri": "https://localhost:8080/"
        },
        "id": "PotWPfinYbHt",
        "outputId": "1b2d7a07-0b6d-4865-d572-3fa38759a762"
      },
      "execution_count": 7,
      "outputs": [
        {
          "output_type": "stream",
          "name": "stdout",
          "text": [
            "Hello World\n"
          ]
        }
      ]
    }
  ]
}